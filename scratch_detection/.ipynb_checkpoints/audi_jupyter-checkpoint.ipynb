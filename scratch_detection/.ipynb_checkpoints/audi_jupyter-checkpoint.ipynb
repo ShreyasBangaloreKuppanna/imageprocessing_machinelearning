{
 "cells": [
  {
   "cell_type": "code",
   "execution_count": null,
   "metadata": {},
   "outputs": [],
   "source": [
    "import cv2\n",
    "import numpy as np\n",
    "import imutils\n",
    "from matplotlib import pyplot as plt\n",
    "\n",
    "scale_factor = 4\n",
    "threshold_canny = 0.95\n",
    "img = cv2.imread(r'S:\\Imageprocessing\\Audi-task\\Imageset\\IMG_20180402_102922725.jpg',1)\n",
    "img_copy = img.copy()\n",
    "img_small = cv2.resize(img_copy, (\n",
    "            img_copy.shape[1] // scale_factor, img_copy.shape[0] // scale_factor))\n",
    "b,g,r = cv2.split(img_small)       # get b,g,r\n",
    "rgb_img = cv2.merge([r,g,b])     # switch it to rgb\n",
    "plt.imshow(rgb_img)\n",
    "\n",
    "plt.show()"
   ]
  },
  {
   "cell_type": "code",
   "execution_count": null,
   "metadata": {},
   "outputs": [],
   "source": [
    "gray = cv2.cvtColor(img_small, cv2.COLOR_BGR2GRAY)\n",
    "plt.imshow(gray, cmap='gray')\n",
    "plt.show()"
   ]
  },
  {
   "cell_type": "code",
   "execution_count": null,
   "metadata": {},
   "outputs": [],
   "source": [
    "blur=cv2.GaussianBlur(gray,(17,17),0)\n",
    "\n",
    "plt.imshow(blur, cmap='gray')\n",
    "plt.show()\n"
   ]
  },
  {
   "cell_type": "code",
   "execution_count": null,
   "metadata": {},
   "outputs": [],
   "source": [
    "edge = cv2.Canny(blur, 0,100)\n",
    "plt.imshow(edge, cmap='gray')\n",
    "plt.show()\n"
   ]
  },
  {
   "cell_type": "code",
   "execution_count": null,
   "metadata": {},
   "outputs": [],
   "source": [
    "kernel = np.ones((15,15), np.uint8)\n",
    "close = cv2.morphologyEx(edge, cv2.MORPH_CLOSE, kernel)\n",
    "kernel = np.ones((2,2), np.uint8)\n",
    "opens=cv2.morphologyEx(close,cv2.MORPH_OPEN,kernel)\n",
    "\n",
    "plt.imshow(close, cmap='gray')\n",
    "plt.show()"
   ]
  },
  {
   "cell_type": "code",
   "execution_count": null,
   "metadata": {},
   "outputs": [],
   "source": [
    "cnts = cv2.findContours(close, cv2.RETR_LIST, cv2.CHAIN_APPROX_SIMPLE)\n",
    "cnts = cnts[0] if imutils.is_cv2() else cnts[1]\n",
    "\n",
    "# print(len(cnts))\n",
    "\n",
    "cntrarea=[]\n",
    "\n",
    "for i in cnts:\n",
    "    cntrarea.append(cv2.contourArea(i))\n",
    "\n",
    "# print(cntrarea)\n",
    "pos= cntrarea.index(max(cntrarea))\n",
    "x, y, w, h = cv2.boundingRect(cnts[pos])\n",
    "cv2.rectangle(img_small, (x, y), (x + w, y + h), (255, 255, 0), 2)\n",
    "\n",
    "plt.imshow(img_small, cmap='gray')\n",
    "plt.show()\n"
   ]
  },
  {
   "cell_type": "code",
   "execution_count": null,
   "metadata": {},
   "outputs": [],
   "source": [
    "roi=img_small[y+60:y+h-60,x+60:x+w-60]\n",
    "plt.imshow(roi, cmap='gray')\n",
    "plt.show()"
   ]
  },
  {
   "cell_type": "code",
   "execution_count": null,
   "metadata": {},
   "outputs": [],
   "source": [
    "gray = cv2.cvtColor(roi, cv2.COLOR_BGR2GRAY)\n",
    "blur=cv2.GaussianBlur(gray,(17,17),0)\n",
    "edge = cv2.Canny(blur, 0,100)\n",
    "kernel = np.ones((15,15), np.uint8)\n",
    "close = cv2.morphologyEx(edge, cv2.MORPH_CLOSE, kernel)\n",
    "kernel = np.ones((5,5), np.uint8)\n",
    "opens=cv2.morphologyEx(close,cv2.MORPH_OPEN,kernel)\n",
    "\n",
    "plt.imshow(close, cmap='gray')\n",
    "plt.show()"
   ]
  },
  {
   "cell_type": "code",
   "execution_count": null,
   "metadata": {},
   "outputs": [],
   "source": [
    "cnts = cv2.findContours(close, cv2.RETR_EXTERNAL, cv2.CHAIN_APPROX_SIMPLE)\n",
    "cnts = cnts[0] if imutils.is_cv2() else cnts[1]\n",
    "\n",
    "# print(len(cnts))\n",
    "cntrarea=[]\n",
    "\n",
    "for i in cnts:\n",
    "    cntrarea.append(cv2.contourArea(i))\n",
    "    a, b, wd, ht = cv2.boundingRect(i)\n",
    "    cv2.rectangle(roi, (a, b), (a + wd, b + ht), (255, 255, 0), 2)\n",
    "    cv2.rectangle(img_small, (x+60+a, y+60+b), (x + 60+a+wd, y +60+b+ht), (255, 0, 0), 2)\n",
    "# print(cntrarea)\n",
    "\n",
    "\n",
    "# cv2.imshow('edited roi',roi)\n",
    "plt.imshow(img_small, cmap='gray')\n",
    "plt.show()\n",
    "print('scratches identified', len(cnts))\n"
   ]
  }
 ],
 "metadata": {
  "kernelspec": {
   "display_name": "Python 3",
   "language": "python",
   "name": "python3"
  },
  "language_info": {
   "codemirror_mode": {
    "name": "ipython",
    "version": 3
   },
   "file_extension": ".py",
   "mimetype": "text/x-python",
   "name": "python",
   "nbconvert_exporter": "python",
   "pygments_lexer": "ipython3",
   "version": "3.6.1"
  }
 },
 "nbformat": 4,
 "nbformat_minor": 1
}
